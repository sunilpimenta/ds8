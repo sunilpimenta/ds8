{
 "cells": [
  {
   "cell_type": "code",
   "execution_count": 1,
   "metadata": {
    "collapsed": true
   },
   "outputs": [],
   "source": [
    "# HIDDEN\n",
    "from datascience import *\n",
    "import numpy as np\n",
    "path_data = '../../../data/'\n",
    "%matplotlib inline\n",
    "import matplotlib.pyplot as plt\n",
    "plt.style.use('fivethirtyeight')"
   ]
  },
  {
   "cell_type": "code",
   "execution_count": 2,
   "metadata": {},
   "outputs": [
    {
     "data": {
      "text/html": [
       "<table border=\"1\" class=\"dataframe\">\n",
       "    <thead>\n",
       "        <tr>\n",
       "            <th>father</th> <th>mother</th> <th>son</th>\n",
       "        </tr>\n",
       "    </thead>\n",
       "    <tbody>\n",
       "        <tr>\n",
       "            <td>78.5  </td> <td>67    </td> <td>73.2</td>\n",
       "        </tr>\n",
       "        <tr>\n",
       "            <td>75.5  </td> <td>66.5  </td> <td>73.5</td>\n",
       "        </tr>\n",
       "        <tr>\n",
       "            <td>75    </td> <td>64    </td> <td>71  </td>\n",
       "        </tr>\n",
       "        <tr>\n",
       "            <td>75    </td> <td>64    </td> <td>70.5</td>\n",
       "        </tr>\n",
       "        <tr>\n",
       "            <td>75    </td> <td>58.5  </td> <td>72  </td>\n",
       "        </tr>\n",
       "        <tr>\n",
       "            <td>74    </td> <td>68    </td> <td>76.5</td>\n",
       "        </tr>\n",
       "        <tr>\n",
       "            <td>74    </td> <td>62    </td> <td>74  </td>\n",
       "        </tr>\n",
       "        <tr>\n",
       "            <td>73    </td> <td>67    </td> <td>71  </td>\n",
       "        </tr>\n",
       "        <tr>\n",
       "            <td>73    </td> <td>67    </td> <td>68  </td>\n",
       "        </tr>\n",
       "        <tr>\n",
       "            <td>73    </td> <td>66.5  </td> <td>71  </td>\n",
       "        </tr>\n",
       "    </tbody>\n",
       "</table>\n",
       "<p>... (169 rows omitted)</p>"
      ],
      "text/plain": [
       "father | mother | son\n",
       "78.5   | 67     | 73.2\n",
       "75.5   | 66.5   | 73.5\n",
       "75     | 64     | 71\n",
       "75     | 64     | 70.5\n",
       "75     | 58.5   | 72\n",
       "74     | 68     | 76.5\n",
       "74     | 62     | 74\n",
       "73     | 67     | 71\n",
       "73     | 67     | 68\n",
       "73     | 66.5   | 71\n",
       "... (169 rows omitted)"
      ]
     },
     "execution_count": 2,
     "metadata": {},
     "output_type": "execute_result"
    }
   ],
   "source": [
    "heights = Table.read_table('./galton_subset.csv')\n",
    "heights"
   ]
  },
  {
   "cell_type": "code",
   "execution_count": 3,
   "metadata": {},
   "outputs": [
    {
     "data": {
      "image/png": "[encoded data removed]",
      "text/plain": [
       "<matplotlib.figure.Figure at 0x21dbb38>"
      ]
     },
     "metadata": {},
     "output_type": "display_data"
    }
   ],
   "source": [
    "heights.scatter('son')"
   ]
  },
  {
   "cell_type": "code",
   "execution_count": null,
   "metadata": {
    "collapsed": true
   },
   "outputs": [],
   "source": []
  }
 ],
 "metadata": {
  "kernelspec": {
   "display_name": "Python 3",
   "language": "python",
   "name": "python3"
  },
  "language_info": {
   "codemirror_mode": {
    "name": "ipython",
    "version": 3
   },
   "file_extension": ".py",
   "mimetype": "text/x-python",
   "name": "python",
   "nbconvert_exporter": "python",
   "pygments_lexer": "ipython3",
   "version": "3.6.1"
  }
 },
 "nbformat": 4,
 "nbformat_minor": 2
}
